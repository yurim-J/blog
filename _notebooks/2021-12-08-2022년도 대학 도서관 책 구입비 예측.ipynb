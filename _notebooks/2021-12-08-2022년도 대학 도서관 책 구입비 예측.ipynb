{
 "cells": [
  {
   "cell_type": "markdown",
   "id": "e5d31f03",
   "metadata": {},
   "source": [
    "# \"2022년도 대학 도서관 책 구입비 예측\"\n",
    "> \"출판시장 예측 프로젝트\"\n",
    "\n",
    "- toc: true\n",
    "- branch: master\n",
    "- badges: true\n",
    "- comments: true\n",
    "- author: yurim j\n",
    "- categories: [회귀분석, Python]"
   ]
  },
  {
   "cell_type": "code",
   "execution_count": 8,
   "id": "f2789945",
   "metadata": {},
   "outputs": [],
   "source": [
    "#패키지 임포트\n",
    "from sklearn.linear_model import LinearRegression\n",
    "import matplotlib.pyplot as plt\n",
    "import matplotlib as mpl\n",
    "import numpy as np\n",
    "import pandas as pd\n",
    "import seaborn as sns\n",
    "\n",
    "mpl.rcParams['font.family']='Malgun Gothic'\n",
    "mpl.rcParams['font.size']=15\n",
    "mpl.rcParams['axes.unicode_minus']=False "
   ]
  },
  {
   "cell_type": "code",
   "execution_count": 9,
   "id": "c7cfe613",
   "metadata": {},
   "outputs": [
    {
     "data": {
      "text/plain": [
       "array([['\"대학도서관 현황(개)\"', '전체', '426', '434', '457', '458', '462', '461',\n",
       "        '453', '460', '459'],\n",
       "       ['\"대학도서관 현황(개)\"', '대학', '210', '214', '219', '221', '220', '220',\n",
       "        '219', '219', '-'],\n",
       "       ['\"대학도서관 현황(개)\"', '전문대학', '144', '145', '138', '144', '138',\n",
       "        '137', '137', '138', '-'],\n",
       "       ['\"대학도서관 현황(개)\"', '대학원대학', '33', '35', '41', '42', '44', '43',\n",
       "        '43', '44', '-'],\n",
       "       ['\"대학도서관 현황(개)\"', '기타', '39', '40', '59', '51', '60', '61', '54',\n",
       "        '59', '-'],\n",
       "       ['\"1관당 장서 수(권)\"', '장서 수(A)', '123877839', '127306082',\n",
       "        '138303474', '142304154', '154689638', '160597929', '165630256',\n",
       "        '170151189', '-'],\n",
       "       ['\"1관당 장서 수(권)\"', '대학도서관 수(B)', '426', '434', '457', '458', '462',\n",
       "        '461', '453', '460', '-'],\n",
       "       ['\"1관당 장서 수(권)\"', '1관당 장서 수(A/B)', '290793', '293332', '302633',\n",
       "        '310708', '334826', '348369', '365630', '369894', '-'],\n",
       "       ['\"1관당 사서 수(명)\"', '정규 사서 수(A)', '2121', '2188', '2028', '1959',\n",
       "        '1905', '1860', '1836', '1789', '-'],\n",
       "       ['\"1관당 사서 수(명)\"', '대학도서관 수(B)', '426', '434', '457', '458', '462',\n",
       "        '461', '453', '460', '-'],\n",
       "       ['\"1관당 사서 수(명)\"', '1관당 정규 사서 수(A/B)', '5', '5', '4.4', '4.3',\n",
       "        '4.1', '4', '4.1', '4', '-'],\n",
       "       ['\"1관당 대출도서 수(권)\"', '대출도서 수(A)', '27988816', '24456035',\n",
       "        '18092907', '16987797', '19086410', '17334589', '16227493',\n",
       "        '15927933', '-'],\n",
       "       ['\"1관당 대출도서 수(권)\"', '대학도서관 수(B)', '426', '434', '456', '458',\n",
       "        '462', '461', '453', '460', '-'],\n",
       "       ['\"1관당 대출도서 수(권)\"', '1관당 대출도서 수(A/B)', '65701', '56350', '39591',\n",
       "        '37091', '41313', '37602', '35822', '34626', '-'],\n",
       "       ['\"1관당 도서구입비(원)\"', '도서구입비(A)', '80756351021', '80885127897',\n",
       "        '63576091748', '60017128255', '61495377145', '60660190272',\n",
       "        '58776001241', '57812785027', '-'],\n",
       "       ['\"1관당 도서구입비(원)\"', '대학도서관 수(B)', '426', '434', '456', '458',\n",
       "        '462', '461', '453', '460', '-'],\n",
       "       ['\"1관당 도서구입비(원)\"', '1관당 도서구입비(A/B)', '189569322', '186371262',\n",
       "        '139116175', '131041765', '133106877', '131583927', '129748347',\n",
       "        '125679967', '-']], dtype=object)"
      ]
     },
     "execution_count": 9,
     "metadata": {},
     "output_type": "execute_result"
    }
   ],
   "source": [
    "data=np.loadtxt('대학도서관현황_20211125161551.csv',delimiter=',',dtype=object,skiprows=1)\n",
    "data"
   ]
  },
  {
   "cell_type": "code",
   "execution_count": 10,
   "id": "91263190",
   "metadata": {},
   "outputs": [
    {
     "data": {
      "text/plain": [
       "array([['80756351021'],\n",
       "       ['80885127897'],\n",
       "       ['63576091748'],\n",
       "       ['60017128255'],\n",
       "       ['61495377145'],\n",
       "       ['60660190272'],\n",
       "       ['58776001241'],\n",
       "       ['57812785027']], dtype=object)"
      ]
     },
     "execution_count": 10,
     "metadata": {},
     "output_type": "execute_result"
    }
   ],
   "source": [
    "전체도서구입비=data[-3,2:10].reshape(-1, 1)\n",
    "전체도서구입비"
   ]
  },
  {
   "cell_type": "code",
   "execution_count": 11,
   "id": "94949599",
   "metadata": {},
   "outputs": [],
   "source": [
    "연도=np.array([2010,2011,2013,2014,2015,2016,2017,2018]).reshape(-1, 1)"
   ]
  },
  {
   "cell_type": "code",
   "execution_count": 12,
   "id": "dc23e96d",
   "metadata": {},
   "outputs": [],
   "source": [
    "model = LinearRegression()"
   ]
  },
  {
   "cell_type": "code",
   "execution_count": 13,
   "id": "b8eba24b",
   "metadata": {},
   "outputs": [
    {
     "name": "stdout",
     "output_type": "stream",
     "text": [
      "R square: 0.8034825786465837\n",
      "2022년도 대학도서관 예측 책 구입비: [[4.17786475e+10]]\n"
     ]
    }
   ],
   "source": [
    "model.fit(연도,전체도서구입비)\n",
    "r_square = model.score(연도,전체도서구입비)\n",
    "print('R square:',r_square)\n",
    "X_temp = [[2022]] \n",
    "\n",
    "y_hat = model.predict(X_temp)\n",
    "print('2022년도 대학도서관 예측 책 구입비:',y_hat)"
   ]
  },
  {
   "cell_type": "code",
   "execution_count": 14,
   "id": "fd189b4a",
   "metadata": {},
   "outputs": [
    {
     "data": {
      "text/plain": [
       "array([2010, 2011, 2013, 2014, 2015, 2016, 2017, 2018, 2022])"
      ]
     },
     "execution_count": 14,
     "metadata": {},
     "output_type": "execute_result"
    }
   ],
   "source": [
    "#2022년도 예측치 추가 (그래프 만들기위해)\n",
    "연도=np.append(연도,2022)\n",
    "연도"
   ]
  },
  {
   "cell_type": "code",
   "execution_count": 15,
   "id": "be2a572d",
   "metadata": {},
   "outputs": [
    {
     "data": {
      "text/plain": [
       "array([2010, 2011, 2013, 2014, 2015, 2016, 2017, 2018, 2022], dtype=int64)"
      ]
     },
     "execution_count": 15,
     "metadata": {},
     "output_type": "execute_result"
    }
   ],
   "source": [
    "x=연도.astype('int64')\n",
    "x"
   ]
  },
  {
   "cell_type": "code",
   "execution_count": 16,
   "id": "db443ec5",
   "metadata": {},
   "outputs": [],
   "source": [
    "전체도서구입비=np.append(전체도서구입비,4.17786475e+10)"
   ]
  },
  {
   "cell_type": "code",
   "execution_count": 17,
   "id": "96d48d03",
   "metadata": {},
   "outputs": [
    {
     "data": {
      "text/plain": [
       "array([80756351021, 80885127897, 63576091748, 60017128255, 61495377145,\n",
       "       60660190272, 58776001241, 57812785027, 41778647500], dtype=int64)"
      ]
     },
     "execution_count": 17,
     "metadata": {},
     "output_type": "execute_result"
    }
   ],
   "source": [
    "y=전체도서구입비.astype('int64')\n",
    "y"
   ]
  },
  {
   "cell_type": "code",
   "execution_count": 18,
   "id": "8f033847",
   "metadata": {},
   "outputs": [],
   "source": [
    "import matplotlib as mpl\n",
    "mpl.rcParams['font.family']='Malgun Gothic'\n",
    "mpl.rcParams['font.size']=15 \n",
    "mpl.rcParams['axes.unicode_minus']=False"
   ]
  },
  {
   "cell_type": "code",
   "execution_count": 19,
   "id": "d81ab40e",
   "metadata": {
    "scrolled": true
   },
   "outputs": [
    {
     "data": {
      "text/plain": [
       "Text(0, 1, '구입비')"
      ]
     },
     "execution_count": 19,
     "metadata": {},
     "output_type": "execute_result"
    },
    {
     "data": {
      "image/png": "[encoded data removed]",
      "text/plain": [
       "<Figure size 432x288 with 1 Axes>"
      ]
     },
     "metadata": {
      "needs_background": "light"
     },
     "output_type": "display_data"
    }
   ],
   "source": [
    "plt.plot(x,y)\n",
    "plt.title('대학 도서관 전체 서적 구입비',fontdict={'family':'Malgun Gothic','size':15})\n",
    "plt.xlabel('연도',color='red',loc='right') #left,right,center\n",
    "plt.ylabel('구입비',color='red',loc='top') #top,middle,bottom"
   ]
  }
 ],
 "metadata": {
  "kernelspec": {
   "display_name": "Python 3",
   "language": "python",
   "name": "python3"
  },
  "language_info": {
   "codemirror_mode": {
    "name": "ipython",
    "version": 3
   },
   "file_extension": ".py",
   "mimetype": "text/x-python",
   "name": "python",
   "nbconvert_exporter": "python",
   "pygments_lexer": "ipython3",
   "version": "3.8.8"
  }
 },
 "nbformat": 4,
 "nbformat_minor": 5
}
